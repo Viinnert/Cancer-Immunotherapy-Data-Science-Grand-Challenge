{
 "cells": [
  {
   "cell_type": "code",
   "execution_count": 1,
   "metadata": {},
   "outputs": [],
   "source": [
    "import numpy as np\n",
    "import pandas as pd\n",
    "import scanpy as sc\n",
    "import tqdm\n",
    "import sklearn\n",
    "import pickle\n",
    "\n",
    "from DataLoader import DataLoader\n",
    "from Inference import Inference\n",
    "from Predictor import Predictor"
   ]
  },
  {
   "cell_type": "code",
   "execution_count": 2,
   "metadata": {},
   "outputs": [],
   "source": [
    "adata_path = '../../Data/sc_training.h5ad'\n",
    "\n",
    "# Infering\n",
    "n_infer_instances = 1000 # Number of instances used for infering the network. -1 = all \n",
    "n_infer_estimators = 4 # Number of trees in random forest for infering the network\n",
    "max_depth_infer = 100 # max depth of random forest for infering the network\n",
    "importance_threshold = 1\n",
    "\n",
    "# Predicting\n",
    "n_train_instances = 1000 # Number of instances used training predictor models. -1 = all \n",
    "n_train_estimators = 4 # Number of trees in random forest training predictor models\n",
    "max_depth_train = 100 # max depth of random forest training predictor models\n",
    "\n",
    "# Classification\n",
    "n_components = 100\n",
    "n_neighbors = 11"
   ]
  },
  {
   "attachments": {},
   "cell_type": "markdown",
   "metadata": {},
   "source": [
    "# Dataloader"
   ]
  },
  {
   "cell_type": "code",
   "execution_count": 3,
   "metadata": {},
   "outputs": [
    {
     "name": "stdout",
     "output_type": "stream",
     "text": [
      "\n",
      "Loading data from h5ad file.\n"
     ]
    },
    {
     "name": "stderr",
     "output_type": "stream",
     "text": [
      "e:\\Documenten\\GitHub\\Cancer-Immunotherapy-Data-Science-Grand-Challenge\\Challenge1\\code\\DataLoader.py:15: FutureWarning: The behavior of .astype from SparseDtype to a non-sparse dtype is deprecated. In a future version, this will return a non-sparse array with the requested dtype. To retain the old behavior, use `obj.astype(SparseDtype(dtype))`\n",
      "  self.gene_expressions = pd.DataFrame.sparse.from_spmatrix(self.adata.X, columns=self.adata.var_names).astype(float).to_numpy()\n"
     ]
    },
    {
     "name": "stdout",
     "output_type": "stream",
     "text": [
      "\n",
      "Succesfully loaded the data.\n"
     ]
    }
   ],
   "source": [
    "dataloader = DataLoader()\n",
    "dataloader.load_data(adata_path)"
   ]
  },
  {
   "cell_type": "code",
   "execution_count": 47,
   "metadata": {},
   "outputs": [
    {
     "name": "stdout",
     "output_type": "stream",
     "text": [
      "Tcf7 [0.1043771  0.29292929 0.31313131 0.27609428 0.01346801]\n"
     ]
    }
   ],
   "source": [
    "conditions = dataloader.adata.obs['condition'].to_numpy()\n",
    "gene = np.random.choice(conditions)\n",
    "proportions = dataloader.get_state_proportions_of_condition(gene)\n",
    "print(gene, proportions)"
   ]
  },
  {
   "attachments": {},
   "cell_type": "markdown",
   "metadata": {},
   "source": [
    "# Inference"
   ]
  },
  {
   "cell_type": "code",
   "execution_count": 6,
   "metadata": {},
   "outputs": [
    {
     "name": "stdout",
     "output_type": "stream",
     "text": [
      "\n",
      "Infering genetic regulatory network.\n"
     ]
    },
    {
     "name": "stderr",
     "output_type": "stream",
     "text": [
      "  0%|          | 0/15077 [00:01<?, ?it/s]\n"
     ]
    },
    {
     "ename": "KeyboardInterrupt",
     "evalue": "",
     "output_type": "error",
     "traceback": [
      "\u001b[1;31m---------------------------------------------------------------------------\u001b[0m",
      "\u001b[1;31mKeyboardInterrupt\u001b[0m                         Traceback (most recent call last)",
      "Cell \u001b[1;32mIn[6], line 2\u001b[0m\n\u001b[0;32m      1\u001b[0m inference \u001b[39m=\u001b[39m Inference(dataloader)\n\u001b[1;32m----> 2\u001b[0m inference\u001b[39m.\u001b[39;49minfer(n_infer_instances, n_infer_estimators, max_depth_infer)\n\u001b[0;32m      3\u001b[0m inference\u001b[39m.\u001b[39msave_network(\u001b[39m'\u001b[39m\u001b[39mGRNetwork2\u001b[39m\u001b[39m'\u001b[39m)\n\u001b[0;32m      4\u001b[0m thresh \u001b[39m=\u001b[39m inference\u001b[39m.\u001b[39mfind_lowest_threshold(epsilon\u001b[39m=\u001b[39m\u001b[39m0.01\u001b[39m)\n",
      "File \u001b[1;32me:\\Documenten\\GitHub\\Cancer-Immunotherapy-Data-Science-Grand-Challenge\\Challenge1\\code\\Inference.py:43\u001b[0m, in \u001b[0;36mget_importances\u001b[1;34m(self, gene, gene_idx, n_instances, n_estimators, max_depth)\u001b[0m\n\u001b[0;32m     40\u001b[0m # Get data\n\u001b[0;32m     41\u001b[0m gene_expressions = self.dataloader.get_gene_expressions_excluding_knockout(gene, n_instances)\n\u001b[1;32m---> 43\u001b[0m # Split data in features and target\n\u001b[0;32m     44\u001b[0m target = gene_expressions[:,gene_idx]\n\u001b[0;32m     45\u001b[0m features = np.delete(gene_expressions, gene_idx, axis=1)\n",
      "File \u001b[1;32me:\\Documenten\\GitHub\\Cancer-Immunotherapy-Data-Science-Grand-Challenge\\Challenge1\\code\\DataLoader.py:36\u001b[0m, in \u001b[0;36mDataLoader.get_gene_expressions_excluding_knockout\u001b[1;34m(self, gene, n_instances)\u001b[0m\n\u001b[0;32m     33\u001b[0m     indices \u001b[39m=\u001b[39m np\u001b[39m.\u001b[39mrandom\u001b[39m.\u001b[39mchoice(indices, size\u001b[39m=\u001b[39mn_instances)\n\u001b[0;32m     35\u001b[0m \u001b[39m# Select the gene expressions\u001b[39;00m\n\u001b[1;32m---> 36\u001b[0m gene_expressions \u001b[39m=\u001b[39m \u001b[39mself\u001b[39;49m\u001b[39m.\u001b[39;49mgene_expressions[indices]\n\u001b[0;32m     38\u001b[0m \u001b[39mreturn\u001b[39;00m gene_expressions\n",
      "\u001b[1;31mKeyboardInterrupt\u001b[0m: "
     ]
    }
   ],
   "source": [
    "inference = Inference(dataloader)\n",
    "inference.infer(n_infer_instances, n_infer_estimators, max_depth_infer)\n",
    "inference.save_network('GRNetwork2')\n",
    "thresh = inference.find_lowest_threshold(epsilon=0.01)"
   ]
  },
  {
   "attachments": {},
   "cell_type": "markdown",
   "metadata": {},
   "source": [
    "# Predictor"
   ]
  },
  {
   "cell_type": "code",
   "execution_count": null,
   "metadata": {},
   "outputs": [
    {
     "name": "stdout",
     "output_type": "stream",
     "text": [
      "\n",
      "Training models for predicting gene expressions.\n"
     ]
    },
    {
     "name": "stderr",
     "output_type": "stream",
     "text": [
      "100%|██████████| 15077/15077 [00:04<00:00, 3066.52it/s]\n"
     ]
    }
   ],
   "source": [
    "predictor = Predictor(dataloader, inference)\n",
    "predictor.train(n_train_instances, n_train_estimators, max_depth_train)\n",
    "predictor.save_models('GRNetwork2_models')"
   ]
  },
  {
   "cell_type": "code",
   "execution_count": 8,
   "metadata": {},
   "outputs": [
    {
     "name": "stdout",
     "output_type": "stream",
     "text": [
      "Unperturbed: [0.06749699 0.20972278 0.31337887 0.39212535 0.01727601]\n",
      "\n",
      "Predicting state proportions after knockout of Aqr.\n",
      "Aqr, [0.06789875 0.2032945  0.31578947 0.39875452 0.01426276]\n",
      "\n",
      "Predicting state proportions after knockout of Bach2.\n",
      "Bach2, [0.06809964 0.2032945  0.31578947 0.39855364 0.01426276]\n",
      "\n",
      "Predicting state proportions after knockout of Bhlhe40.\n",
      "Bhlhe40, [0.06809964 0.2032945  0.31619124 0.39835275 0.01406187]\n",
      "\n",
      "Predicting state proportions after knockout of Ets1.\n",
      "Ets1, [0.06830052 0.20369626 0.31558859 0.39815187 0.01426276]\n",
      "\n",
      "Predicting state proportions after knockout of Fosb.\n",
      "Fosb, [0.06789875 0.2032945  0.31578947 0.39875452 0.01426276]\n",
      "\n",
      "Predicting state proportions after knockout of Mafk.\n",
      "Mafk, [0.06789875 0.2032945  0.31578947 0.39875452 0.01426276]\n",
      "\n",
      "Predicting state proportions after knockout of Stat3.\n",
      "Stat3, [0.06809964 0.20289273 0.31659301 0.39835275 0.01406187]\n"
     ]
    }
   ],
   "source": [
    "proportions = dataloader.get_state_proportions_of_condition('Unperturbed')\n",
    "print(f'Unperturbed: {proportions}')\n",
    "\n",
    "genes = ['Aqr', 'Bach2', 'Bhlhe40', 'Ets1', 'Fosb', 'Mafk', 'Stat3']\n",
    "for gene in genes:\n",
    "    predictions = predictor.predict_knockout_effect(gene, n_components, n_neighbors)\n",
    "    print(f'{gene}, {predictions}')"
   ]
  },
  {
   "cell_type": "code",
   "execution_count": null,
   "metadata": {},
   "outputs": [],
   "source": []
  }
 ],
 "metadata": {
  "kernelspec": {
   "display_name": "Python 3",
   "language": "python",
   "name": "python3"
  },
  "language_info": {
   "codemirror_mode": {
    "name": "ipython",
    "version": 3
   },
   "file_extension": ".py",
   "mimetype": "text/x-python",
   "name": "python",
   "nbconvert_exporter": "python",
   "pygments_lexer": "ipython3",
   "version": "3.9.13"
  },
  "orig_nbformat": 4,
  "vscode": {
   "interpreter": {
    "hash": "98f645f5ffb66ca293d4d98dc9291d59364fc3c9937e34a0b14a474cf06b7613"
   }
  }
 },
 "nbformat": 4,
 "nbformat_minor": 2
}
