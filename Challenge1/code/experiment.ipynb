{
 "cells": [
  {
   "cell_type": "code",
   "execution_count": 2,
   "metadata": {},
   "outputs": [],
   "source": [
    "import numpy as np\n",
    "import pandas as pd\n",
    "import scanpy as sc\n",
    "import sklearn\n",
    "import pickle\n",
    "import matplotlib.pyplot as plt\n",
    "\n",
    "from tqdm import tqdm\n",
    "from DataLoader import DataLoader\n",
    "from Inference import Inference\n",
    "from Predictor import Predictor"
   ]
  },
  {
   "cell_type": "code",
   "execution_count": 3,
   "metadata": {},
   "outputs": [],
   "source": [
    "adata_path = '../../Data/sc_training.h5ad'\n",
    "\n",
    "# Infering\n",
    "n_infer_instances = 1000 # Number of instances used for infering the network. -1 = all \n",
    "n_infer_estimators = 4 # Number of trees in random forest for infering the network\n",
    "max_depth_infer = 100 # max depth of random forest for infering the network\n",
    "importance_threshold = 1\n",
    "\n",
    "# Predicting\n",
    "n_train_instances = 1000 # Number of instances used training predictor models. -1 = all \n",
    "n_train_estimators = 4 # Number of trees in random forest training predictor models\n",
    "max_depth_train = 100 # max depth of random forest training predictor models\n",
    "\n",
    "# Classification\n",
    "n_features = 1000\n",
    "n_components = 100\n",
    "n_neighbors = 10"
   ]
  },
  {
   "attachments": {},
   "cell_type": "markdown",
   "metadata": {},
   "source": [
    "# Dataloader"
   ]
  },
  {
   "cell_type": "code",
   "execution_count": 4,
   "metadata": {},
   "outputs": [
    {
     "name": "stdout",
     "output_type": "stream",
     "text": [
      "\n",
      "Loading data from h5ad file.\n"
     ]
    },
    {
     "name": "stderr",
     "output_type": "stream",
     "text": [
      "e:\\Documenten\\GitHub\\Cancer-Immunotherapy-Data-Science-Grand-Challenge\\Challenge1\\code\\DataLoader.py:15: FutureWarning: The behavior of .astype from SparseDtype to a non-sparse dtype is deprecated. In a future version, this will return a non-sparse array with the requested dtype. To retain the old behavior, use `obj.astype(SparseDtype(dtype))`\n",
      "  self.gene_expressions = pd.DataFrame.sparse.from_spmatrix(self.adata.X, columns=self.adata.var_names).astype(float).to_numpy()\n"
     ]
    },
    {
     "name": "stdout",
     "output_type": "stream",
     "text": [
      "\n",
      "Succesfully loaded the data.\n"
     ]
    }
   ],
   "source": [
    "dataloader = DataLoader()\n",
    "dataloader.load_data(adata_path)"
   ]
  },
  {
   "cell_type": "code",
   "execution_count": 45,
   "metadata": {},
   "outputs": [
    {
     "name": "stdout",
     "output_type": "stream",
     "text": [
      "Sp100 [0.02447552 0.28846154 0.28146853 0.39160839 0.01398601]\n"
     ]
    }
   ],
   "source": [
    "# Print state proportions of random knockout\n",
    "conditions = dataloader.adata.obs['condition'].to_numpy()\n",
    "gene = np.random.choice(conditions)\n",
    "proportions = dataloader.get_state_proportions_of_condition(gene)\n",
    "print(gene, proportions)"
   ]
  },
  {
   "attachments": {},
   "cell_type": "markdown",
   "metadata": {},
   "source": [
    "# Inference"
   ]
  },
  {
   "cell_type": "code",
   "execution_count": 5,
   "metadata": {},
   "outputs": [
    {
     "name": "stdout",
     "output_type": "stream",
     "text": [
      "\n",
      "Loading genetic regulatory network.\n"
     ]
    }
   ],
   "source": [
    "inference = Inference(dataloader)\n",
    "inference.load_network('GRNetwork')"
   ]
  },
  {
   "cell_type": "code",
   "execution_count": 6,
   "metadata": {},
   "outputs": [
    {
     "name": "stdout",
     "output_type": "stream",
     "text": [
      "Aqr 19\n",
      "Bach2 3\n",
      "Bhlhe40 3660\n",
      "Ets1 6559\n",
      "Fosb 226\n",
      "Mafk 5\n",
      "Stat3 1486\n"
     ]
    }
   ],
   "source": [
    "inference.set_importance_threshold(0.011)\n",
    "genes = ['Aqr', 'Bach2', 'Bhlhe40', 'Ets1', 'Fosb', 'Mafk', 'Stat3']\n",
    "for gene in genes:\n",
    "    order = inference.get_knockout_order(gene)\n",
    "    print(gene, len(order))"
   ]
  },
  {
   "attachments": {},
   "cell_type": "markdown",
   "metadata": {},
   "source": [
    "# Predictor"
   ]
  },
  {
   "cell_type": "code",
   "execution_count": 6,
   "metadata": {},
   "outputs": [
    {
     "name": "stdout",
     "output_type": "stream",
     "text": [
      "\n",
      "Fitting predictor.\n"
     ]
    }
   ],
   "source": [
    "predictor = Predictor(dataloader, inference)\n",
    "predictor.fit(n_features, n_components, n_neighbors)"
   ]
  },
  {
   "cell_type": "code",
   "execution_count": 7,
   "metadata": {},
   "outputs": [
    {
     "name": "stdout",
     "output_type": "stream",
     "text": [
      "Unperturbed: [0.06749699 0.20972278 0.31337887 0.39212535 0.01727601]\n",
      "\n",
      "Predicting state proportions after knockout of Aqr.\n",
      "Aqr, [0.06830052 0.1982724  0.31619124 0.40437927 0.01285657]\n",
      "\n",
      "Predicting state proportions after knockout of Bach2.\n",
      "Bach2, [0.06830052 0.1982724  0.31619124 0.40437927 0.01285657]\n",
      "\n",
      "Predicting state proportions after knockout of Bhlhe40.\n",
      "Bhlhe40, [0.06870229 0.19967859 0.31337887 0.40538369 0.01285657]\n",
      "\n",
      "Predicting state proportions after knockout of Ets1.\n",
      "Ets1, [0.06850141 0.19726798 0.31679389 0.40458015 0.01285657]\n",
      "\n",
      "Predicting state proportions after knockout of Fosb.\n",
      "Fosb, [0.06830052 0.1982724  0.31619124 0.40437927 0.01285657]\n",
      "\n",
      "Predicting state proportions after knockout of Mafk.\n",
      "Mafk, [0.06830052 0.1982724  0.31619124 0.40437927 0.01285657]\n",
      "\n",
      "Predicting state proportions after knockout of Stat3.\n",
      "Stat3, [0.06850141 0.19787063 0.31639213 0.40478104 0.0124548 ]\n"
     ]
    }
   ],
   "source": [
    "proportions = dataloader.get_state_proportions_of_condition('Unperturbed')\n",
    "print(f'Unperturbed: {proportions}')\n",
    "\n",
    "genes = ['Aqr', 'Bach2', 'Bhlhe40', 'Ets1', 'Fosb', 'Mafk', 'Stat3']\n",
    "for gene in genes:\n",
    "    predictions = predictor.predict_knockout_effect(gene, n_components, n_neighbors)\n",
    "    print(f'{gene}, {predictions}')"
   ]
  },
  {
   "cell_type": "code",
   "execution_count": 41,
   "metadata": {},
   "outputs": [
    {
     "name": "stdout",
     "output_type": "stream",
     "text": [
      "\n",
      "Predicting state proportions after knockout of Dvl2.\n",
      "Dvl2\n",
      "[0.02439024 0.11550851 0.30418776 0.54947078 0.00644271]\n",
      "[0.06830052 0.20208919 0.31538771 0.40076336 0.01345922]\n",
      "0.05948296757920769\n"
     ]
    }
   ],
   "source": [
    "gene = 'Dvl2'\n",
    "proportions = dataloader.get_state_proportions_of_condition(gene)\n",
    "predictions = predictor.predict_knockout_effect(gene, n_components, n_neighbors)\n",
    "mae = np.mean(abs(proportions - predictions))\n",
    "print(gene)\n",
    "print(proportions)\n",
    "print(predictions)\n",
    "print(mae)"
   ]
  }
 ],
 "metadata": {
  "kernelspec": {
   "display_name": "Python 3",
   "language": "python",
   "name": "python3"
  },
  "language_info": {
   "codemirror_mode": {
    "name": "ipython",
    "version": 3
   },
   "file_extension": ".py",
   "mimetype": "text/x-python",
   "name": "python",
   "nbconvert_exporter": "python",
   "pygments_lexer": "ipython3",
   "version": "3.9.13 (tags/v3.9.13:6de2ca5, May 17 2022, 16:36:42) [MSC v.1929 64 bit (AMD64)]"
  },
  "orig_nbformat": 4,
  "vscode": {
   "interpreter": {
    "hash": "98f645f5ffb66ca293d4d98dc9291d59364fc3c9937e34a0b14a474cf06b7613"
   }
  }
 },
 "nbformat": 4,
 "nbformat_minor": 2
}
