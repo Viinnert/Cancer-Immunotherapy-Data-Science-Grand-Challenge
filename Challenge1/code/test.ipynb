{
 "cells": [
  {
   "cell_type": "code",
   "execution_count": 21,
   "metadata": {},
   "outputs": [],
   "source": [
    "import pandas as pd\n",
    "import numpy as np"
   ]
  },
  {
   "cell_type": "code",
   "execution_count": 22,
   "metadata": {},
   "outputs": [
    {
     "data": {
      "text/html": [
       "<div>\n",
       "<style scoped>\n",
       "    .dataframe tbody tr th:only-of-type {\n",
       "        vertical-align: middle;\n",
       "    }\n",
       "\n",
       "    .dataframe tbody tr th {\n",
       "        vertical-align: top;\n",
       "    }\n",
       "\n",
       "    .dataframe thead th {\n",
       "        text-align: right;\n",
       "    }\n",
       "</style>\n",
       "<table border=\"1\" class=\"dataframe\">\n",
       "  <thead>\n",
       "    <tr style=\"text-align: right;\">\n",
       "      <th></th>\n",
       "      <th>a_i</th>\n",
       "      <th>b_i</th>\n",
       "      <th>c_i</th>\n",
       "      <th>d_i</th>\n",
       "      <th>e_i</th>\n",
       "    </tr>\n",
       "  </thead>\n",
       "  <tbody>\n",
       "    <tr>\n",
       "      <th>0</th>\n",
       "      <td>0.020161</td>\n",
       "      <td>0.008871</td>\n",
       "      <td>0.029839</td>\n",
       "      <td>0.046774</td>\n",
       "      <td>0.894355</td>\n",
       "    </tr>\n",
       "    <tr>\n",
       "      <th>1</th>\n",
       "      <td>0.355372</td>\n",
       "      <td>0.082645</td>\n",
       "      <td>0.231405</td>\n",
       "      <td>0.322314</td>\n",
       "      <td>0.008264</td>\n",
       "    </tr>\n",
       "    <tr>\n",
       "      <th>2</th>\n",
       "      <td>0.337079</td>\n",
       "      <td>0.415730</td>\n",
       "      <td>0.067416</td>\n",
       "      <td>0.168539</td>\n",
       "      <td>0.011236</td>\n",
       "    </tr>\n",
       "    <tr>\n",
       "      <th>3</th>\n",
       "      <td>0.042254</td>\n",
       "      <td>0.126761</td>\n",
       "      <td>0.338028</td>\n",
       "      <td>0.464789</td>\n",
       "      <td>0.028169</td>\n",
       "    </tr>\n",
       "  </tbody>\n",
       "</table>\n",
       "</div>"
      ],
      "text/plain": [
       "        a_i       b_i       c_i       d_i       e_i\n",
       "0  0.020161  0.008871  0.029839  0.046774  0.894355\n",
       "1  0.355372  0.082645  0.231405  0.322314  0.008264\n",
       "2  0.337079  0.415730  0.067416  0.168539  0.011236\n",
       "3  0.042254  0.126761  0.338028  0.464789  0.028169"
      ]
     },
     "metadata": {},
     "output_type": "display_data"
    },
    {
     "data": {
      "text/html": [
       "<div>\n",
       "<style scoped>\n",
       "    .dataframe tbody tr th:only-of-type {\n",
       "        vertical-align: middle;\n",
       "    }\n",
       "\n",
       "    .dataframe tbody tr th {\n",
       "        vertical-align: top;\n",
       "    }\n",
       "\n",
       "    .dataframe thead th {\n",
       "        text-align: right;\n",
       "    }\n",
       "</style>\n",
       "<table border=\"1\" class=\"dataframe\">\n",
       "  <thead>\n",
       "    <tr style=\"text-align: right;\">\n",
       "      <th></th>\n",
       "      <th>progenitor</th>\n",
       "      <th>effector</th>\n",
       "      <th>terminal exhausted</th>\n",
       "      <th>cycling</th>\n",
       "      <th>other</th>\n",
       "    </tr>\n",
       "  </thead>\n",
       "  <tbody>\n",
       "    <tr>\n",
       "      <th>0</th>\n",
       "      <td>0.065890</td>\n",
       "      <td>0.186018</td>\n",
       "      <td>0.335677</td>\n",
       "      <td>0.403174</td>\n",
       "      <td>0.009241</td>\n",
       "    </tr>\n",
       "    <tr>\n",
       "      <th>1</th>\n",
       "      <td>0.067899</td>\n",
       "      <td>0.196264</td>\n",
       "      <td>0.321012</td>\n",
       "      <td>0.400763</td>\n",
       "      <td>0.014062</td>\n",
       "    </tr>\n",
       "    <tr>\n",
       "      <th>2</th>\n",
       "      <td>0.067698</td>\n",
       "      <td>0.197268</td>\n",
       "      <td>0.320410</td>\n",
       "      <td>0.400562</td>\n",
       "      <td>0.014062</td>\n",
       "    </tr>\n",
       "    <tr>\n",
       "      <th>3</th>\n",
       "      <td>0.068100</td>\n",
       "      <td>0.194656</td>\n",
       "      <td>0.322620</td>\n",
       "      <td>0.401366</td>\n",
       "      <td>0.013258</td>\n",
       "    </tr>\n",
       "  </tbody>\n",
       "</table>\n",
       "</div>"
      ],
      "text/plain": [
       "   progenitor  effector  terminal exhausted   cycling     other\n",
       "0    0.065890  0.186018            0.335677  0.403174  0.009241\n",
       "1    0.067899  0.196264            0.321012  0.400763  0.014062\n",
       "2    0.067698  0.197268            0.320410  0.400562  0.014062\n",
       "3    0.068100  0.194656            0.322620  0.401366  0.013258"
      ]
     },
     "metadata": {},
     "output_type": "display_data"
    },
    {
     "name": "stdout",
     "output_type": "stream",
     "text": [
      "0.17541725075938497\n"
     ]
    }
   ],
   "source": [
    "test_truth_path = '../../Data/challenge1_ground_truth_test.csv'\n",
    "test_predictions_path = '../solution/test_output.csv'\n",
    "\n",
    "test_truth = pd.read_csv(test_truth_path).drop('gene', axis=1)\n",
    "test_predictions = pd.read_csv(test_predictions_path).drop('Unnamed: 0', axis=1)\n",
    "\n",
    "display(test_truth)\n",
    "display(test_predictions)\n",
    "\n",
    "mae = []\n",
    "for i in range(4):\n",
    "    for j in range(5):\n",
    "        mae.append(abs(test_truth.iloc[i,j] - test_predictions.iloc[i,j]))\n",
    "\n",
    "print(np.mean(mae))\n"
   ]
  },
  {
   "cell_type": "code",
   "execution_count": null,
   "metadata": {},
   "outputs": [],
   "source": []
  }
 ],
 "metadata": {
  "kernelspec": {
   "display_name": "Python 3",
   "language": "python",
   "name": "python3"
  },
  "language_info": {
   "codemirror_mode": {
    "name": "ipython",
    "version": 3
   },
   "file_extension": ".py",
   "mimetype": "text/x-python",
   "name": "python",
   "nbconvert_exporter": "python",
   "pygments_lexer": "ipython3",
   "version": "3.9.13"
  },
  "orig_nbformat": 4,
  "vscode": {
   "interpreter": {
    "hash": "98f645f5ffb66ca293d4d98dc9291d59364fc3c9937e34a0b14a474cf06b7613"
   }
  }
 },
 "nbformat": 4,
 "nbformat_minor": 2
}
